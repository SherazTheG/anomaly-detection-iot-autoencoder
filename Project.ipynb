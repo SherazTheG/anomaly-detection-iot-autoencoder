{
 "cells": [
  {
   "cell_type": "code",
   "execution_count": 2,
   "metadata": {},
   "outputs": [],
   "source": [
    "import pandas as pd\n",
    "import numpy as np\n",
    "from sklearn.preprocessing import MinMaxScaler\n",
    "from sklearn.model_selection import train_test_split\n",
    "\n",
    "# Load dataset\n",
    "df = pd.read_csv(\"dataset.csv\")\n",
    "\n"
   ]
  },
  {
   "cell_type": "code",
   "execution_count": 4,
   "metadata": {},
   "outputs": [
    {
     "data": {
      "text/html": [
       "<div>\n",
       "<style scoped>\n",
       "    .dataframe tbody tr th:only-of-type {\n",
       "        vertical-align: middle;\n",
       "    }\n",
       "\n",
       "    .dataframe tbody tr th {\n",
       "        vertical-align: top;\n",
       "    }\n",
       "\n",
       "    .dataframe thead th {\n",
       "        text-align: right;\n",
       "    }\n",
       "</style>\n",
       "<table border=\"1\" class=\"dataframe\">\n",
       "  <thead>\n",
       "    <tr style=\"text-align: right;\">\n",
       "      <th></th>\n",
       "      <th>Time</th>\n",
       "      <th>Temperature</th>\n",
       "      <th>Humidity</th>\n",
       "      <th>Air Quality</th>\n",
       "      <th>Light</th>\n",
       "      <th>Loudness</th>\n",
       "    </tr>\n",
       "  </thead>\n",
       "  <tbody>\n",
       "    <tr>\n",
       "      <th>0</th>\n",
       "      <td>1623781306</td>\n",
       "      <td>37.94</td>\n",
       "      <td>28.94</td>\n",
       "      <td>75</td>\n",
       "      <td>644</td>\n",
       "      <td>106</td>\n",
       "    </tr>\n",
       "    <tr>\n",
       "      <th>1</th>\n",
       "      <td>1623781316</td>\n",
       "      <td>37.94</td>\n",
       "      <td>29.00</td>\n",
       "      <td>75</td>\n",
       "      <td>645</td>\n",
       "      <td>145</td>\n",
       "    </tr>\n",
       "    <tr>\n",
       "      <th>2</th>\n",
       "      <td>1623781326</td>\n",
       "      <td>37.88</td>\n",
       "      <td>28.88</td>\n",
       "      <td>75</td>\n",
       "      <td>644</td>\n",
       "      <td>146</td>\n",
       "    </tr>\n",
       "    <tr>\n",
       "      <th>3</th>\n",
       "      <td>1623781336</td>\n",
       "      <td>37.72</td>\n",
       "      <td>28.94</td>\n",
       "      <td>75</td>\n",
       "      <td>646</td>\n",
       "      <td>139</td>\n",
       "    </tr>\n",
       "    <tr>\n",
       "      <th>4</th>\n",
       "      <td>1623781346</td>\n",
       "      <td>37.69</td>\n",
       "      <td>29.19</td>\n",
       "      <td>75</td>\n",
       "      <td>644</td>\n",
       "      <td>155</td>\n",
       "    </tr>\n",
       "  </tbody>\n",
       "</table>\n",
       "</div>"
      ],
      "text/plain": [
       "         Time  Temperature  Humidity  Air Quality  Light  Loudness\n",
       "0  1623781306        37.94     28.94           75    644       106\n",
       "1  1623781316        37.94     29.00           75    645       145\n",
       "2  1623781326        37.88     28.88           75    644       146\n",
       "3  1623781336        37.72     28.94           75    646       139\n",
       "4  1623781346        37.69     29.19           75    644       155"
      ]
     },
     "execution_count": 4,
     "metadata": {},
     "output_type": "execute_result"
    }
   ],
   "source": [
    "df.head()"
   ]
  },
  {
   "cell_type": "code",
   "execution_count": 3,
   "metadata": {},
   "outputs": [
    {
     "data": {
      "text/plain": [
       "Time           0\n",
       "Temperature    0\n",
       "Humidity       0\n",
       "Air Quality    0\n",
       "Light          0\n",
       "Loudness       0\n",
       "dtype: int64"
      ]
     },
     "execution_count": 3,
     "metadata": {},
     "output_type": "execute_result"
    }
   ],
   "source": [
    "df.isnull().sum()"
   ]
  },
  {
   "cell_type": "code",
   "execution_count": null,
   "metadata": {},
   "outputs": [],
   "source": [
    "# Drop duplicate values\n",
    "df = df.drop_duplicates()\n",
    "\n",
    "# Drop rows with missing values\n",
    "df = df.dropna()\n",
    "\n",
    "# Feature selection (excluding timestamp)\n",
    "features = ['Temperature', 'Humidity', 'Air Quality', 'Light', 'Loudness']\n",
    "data = df[features]\n",
    "\n",
    "print(\"Data loaded and cleaned successfully!\")"
   ]
  },
  {
   "cell_type": "code",
   "execution_count": 12,
   "metadata": {},
   "outputs": [
    {
     "name": "stdout",
     "output_type": "stream",
     "text": [
      "Data normalized successfully!\n"
     ]
    }
   ],
   "source": [
    "# Normalize sensor readings using Min-Max Scaling\n",
    "scaler = MinMaxScaler()\n",
    "scaled_data = scaler.fit_transform(data)\n",
    "\n",
    "# Convert back to DataFrame\n",
    "df_scaled = pd.DataFrame(scaled_data, columns=features)\n",
    "\n",
    "print(\"Data normalized successfully!\")\n",
    "\n",
    "df_scaled.to_csv(\"dataset_cleaned.csv\",index=False)\n"
   ]
  },
  {
   "cell_type": "code",
   "execution_count": 4,
   "metadata": {},
   "outputs": [
    {
     "name": "stdout",
     "output_type": "stream",
     "text": [
      "Training set shape: (5246, 5)\n",
      "Test set shape: (1312, 5)\n"
     ]
    }
   ],
   "source": [
    "# Split data into training and test sets\n",
    "X_train, X_test = train_test_split(scaled_data, test_size=0.2, random_state=42)\n",
    "\n",
    "print(f\"Training set shape: {X_train.shape}\")\n",
    "print(f\"Test set shape: {X_test.shape}\")\n"
   ]
  },
  {
   "cell_type": "code",
   "execution_count": 5,
   "metadata": {},
   "outputs": [
    {
     "name": "stdout",
     "output_type": "stream",
     "text": [
      "Model: \"model\"\n",
      "_________________________________________________________________\n",
      " Layer (type)                Output Shape              Param #   \n",
      "=================================================================\n",
      " input_1 (InputLayer)        [(None, 5)]               0         \n",
      "                                                                 \n",
      " dense (Dense)               (None, 32)                192       \n",
      "                                                                 \n",
      " dense_1 (Dense)             (None, 16)                528       \n",
      "                                                                 \n",
      " dense_2 (Dense)             (None, 8)                 136       \n",
      "                                                                 \n",
      " dense_3 (Dense)             (None, 16)                144       \n",
      "                                                                 \n",
      " dense_4 (Dense)             (None, 32)                544       \n",
      "                                                                 \n",
      " dense_5 (Dense)             (None, 5)                 165       \n",
      "                                                                 \n",
      "=================================================================\n",
      "Total params: 1,709\n",
      "Trainable params: 1,709\n",
      "Non-trainable params: 0\n",
      "_________________________________________________________________\n"
     ]
    }
   ],
   "source": [
    "import tensorflow as tf\n",
    "from tensorflow.keras.models import Model\n",
    "from tensorflow.keras.layers import Input, Dense\n",
    "\n",
    "# Define input shape\n",
    "input_dim = X_train.shape[1]\n",
    "\n",
    "# Encoder: Compress data\n",
    "input_layer = Input(shape=(input_dim,))\n",
    "encoded = Dense(32, activation=\"relu\")(input_layer)\n",
    "encoded = Dense(16, activation=\"relu\")(encoded)\n",
    "encoded = Dense(8, activation=\"relu\")(encoded)  # Bottleneck layer\n",
    "\n",
    "# Decoder: Reconstruct data\n",
    "decoded = Dense(16, activation=\"relu\")(encoded)\n",
    "decoded = Dense(32, activation=\"relu\")(decoded)\n",
    "decoded = Dense(input_dim, activation=\"sigmoid\")(decoded)  # Output layer\n",
    "\n",
    "# Define Autoencoder model\n",
    "autoencoder = Model(inputs=input_layer, outputs=decoded)\n",
    "\n",
    "# Compile model\n",
    "autoencoder.compile(optimizer=\"adam\", loss=\"mse\")\n",
    "\n",
    "# Print model summary\n",
    "autoencoder.summary()\n"
   ]
  },
  {
   "cell_type": "code",
   "execution_count": 6,
   "metadata": {},
   "outputs": [
    {
     "name": "stdout",
     "output_type": "stream",
     "text": [
      "Epoch 1/50\n",
      "148/148 [==============================] - 2s 3ms/step - loss: 0.0426 - val_loss: 0.0060\n",
      "Epoch 2/50\n",
      "148/148 [==============================] - 0s 3ms/step - loss: 0.0033 - val_loss: 0.0020\n",
      "Epoch 3/50\n",
      "148/148 [==============================] - 0s 3ms/step - loss: 0.0016 - val_loss: 0.0013\n",
      "Epoch 4/50\n",
      "148/148 [==============================] - 0s 3ms/step - loss: 0.0011 - val_loss: 8.4639e-04\n",
      "Epoch 5/50\n",
      "148/148 [==============================] - 0s 3ms/step - loss: 7.5011e-04 - val_loss: 6.0317e-04\n",
      "Epoch 6/50\n",
      "148/148 [==============================] - 1s 4ms/step - loss: 5.9595e-04 - val_loss: 5.4591e-04\n",
      "Epoch 7/50\n",
      "148/148 [==============================] - 0s 3ms/step - loss: 5.3263e-04 - val_loss: 5.2771e-04\n",
      "Epoch 8/50\n",
      "148/148 [==============================] - 0s 3ms/step - loss: 5.0493e-04 - val_loss: 4.8083e-04\n",
      "Epoch 9/50\n",
      "148/148 [==============================] - 0s 3ms/step - loss: 4.8486e-04 - val_loss: 4.6059e-04\n",
      "Epoch 10/50\n",
      "148/148 [==============================] - 0s 3ms/step - loss: 4.6715e-04 - val_loss: 4.4449e-04\n",
      "Epoch 11/50\n",
      "148/148 [==============================] - 0s 2ms/step - loss: 4.4746e-04 - val_loss: 4.3015e-04\n",
      "Epoch 12/50\n",
      "148/148 [==============================] - 0s 3ms/step - loss: 4.1194e-04 - val_loss: 3.8549e-04\n",
      "Epoch 13/50\n",
      "148/148 [==============================] - 0s 3ms/step - loss: 3.5507e-04 - val_loss: 3.2093e-04\n",
      "Epoch 14/50\n",
      "148/148 [==============================] - 0s 3ms/step - loss: 2.8820e-04 - val_loss: 2.5968e-04\n",
      "Epoch 15/50\n",
      "148/148 [==============================] - 0s 3ms/step - loss: 2.3527e-04 - val_loss: 2.3598e-04\n",
      "Epoch 16/50\n",
      "148/148 [==============================] - 0s 3ms/step - loss: 1.9586e-04 - val_loss: 1.9044e-04\n",
      "Epoch 17/50\n",
      "148/148 [==============================] - 0s 3ms/step - loss: 1.8609e-04 - val_loss: 1.7598e-04\n",
      "Epoch 18/50\n",
      "148/148 [==============================] - 0s 2ms/step - loss: 1.6546e-04 - val_loss: 1.7020e-04\n",
      "Epoch 19/50\n",
      "148/148 [==============================] - 0s 3ms/step - loss: 1.6429e-04 - val_loss: 1.6638e-04\n",
      "Epoch 20/50\n",
      "148/148 [==============================] - 0s 2ms/step - loss: 1.5231e-04 - val_loss: 1.7219e-04\n",
      "Epoch 21/50\n",
      "148/148 [==============================] - 0s 2ms/step - loss: 1.5061e-04 - val_loss: 1.4735e-04\n",
      "Epoch 22/50\n",
      "148/148 [==============================] - 0s 2ms/step - loss: 1.4292e-04 - val_loss: 1.3727e-04\n",
      "Epoch 23/50\n",
      "148/148 [==============================] - 0s 3ms/step - loss: 1.4336e-04 - val_loss: 1.4519e-04\n",
      "Epoch 24/50\n",
      "148/148 [==============================] - 0s 3ms/step - loss: 1.4187e-04 - val_loss: 1.2754e-04\n",
      "Epoch 25/50\n",
      "148/148 [==============================] - 0s 3ms/step - loss: 1.3112e-04 - val_loss: 1.2289e-04\n",
      "Epoch 26/50\n",
      "148/148 [==============================] - 0s 2ms/step - loss: 1.2474e-04 - val_loss: 1.1822e-04\n",
      "Epoch 27/50\n",
      "148/148 [==============================] - 0s 2ms/step - loss: 1.2050e-04 - val_loss: 1.1025e-04\n",
      "Epoch 28/50\n",
      "148/148 [==============================] - 0s 2ms/step - loss: 1.1296e-04 - val_loss: 1.2524e-04\n",
      "Epoch 29/50\n",
      "148/148 [==============================] - 0s 2ms/step - loss: 1.1001e-04 - val_loss: 9.7304e-05\n",
      "Epoch 30/50\n",
      "148/148 [==============================] - 0s 3ms/step - loss: 9.8891e-05 - val_loss: 9.5713e-05\n",
      "Epoch 31/50\n",
      "148/148 [==============================] - 0s 3ms/step - loss: 9.6863e-05 - val_loss: 9.7556e-05\n",
      "Epoch 32/50\n",
      "148/148 [==============================] - 0s 2ms/step - loss: 9.4701e-05 - val_loss: 8.2835e-05\n",
      "Epoch 33/50\n",
      "148/148 [==============================] - 0s 3ms/step - loss: 9.1308e-05 - val_loss: 1.0873e-04\n",
      "Epoch 34/50\n",
      "148/148 [==============================] - 0s 2ms/step - loss: 8.8842e-05 - val_loss: 8.3491e-05\n",
      "Epoch 35/50\n",
      "148/148 [==============================] - 0s 3ms/step - loss: 8.8399e-05 - val_loss: 8.6423e-05\n",
      "Epoch 36/50\n",
      "148/148 [==============================] - 0s 2ms/step - loss: 8.9823e-05 - val_loss: 8.8941e-05\n",
      "Epoch 37/50\n",
      "148/148 [==============================] - 0s 2ms/step - loss: 8.9994e-05 - val_loss: 8.2083e-05\n",
      "Epoch 38/50\n",
      "148/148 [==============================] - 0s 3ms/step - loss: 8.5833e-05 - val_loss: 8.0580e-05\n",
      "Epoch 39/50\n",
      "148/148 [==============================] - 0s 2ms/step - loss: 8.5925e-05 - val_loss: 1.0106e-04\n",
      "Epoch 40/50\n",
      "148/148 [==============================] - 0s 2ms/step - loss: 8.5321e-05 - val_loss: 7.7734e-05\n",
      "Epoch 41/50\n",
      "148/148 [==============================] - 0s 2ms/step - loss: 8.4156e-05 - val_loss: 7.6640e-05\n",
      "Epoch 42/50\n",
      "148/148 [==============================] - 0s 3ms/step - loss: 8.3445e-05 - val_loss: 8.1638e-05\n",
      "Epoch 43/50\n",
      "148/148 [==============================] - 0s 3ms/step - loss: 7.9421e-05 - val_loss: 7.3381e-05\n",
      "Epoch 44/50\n",
      "148/148 [==============================] - 0s 2ms/step - loss: 7.9625e-05 - val_loss: 7.3340e-05\n",
      "Epoch 45/50\n",
      "148/148 [==============================] - 0s 2ms/step - loss: 8.1579e-05 - val_loss: 7.7670e-05\n",
      "Epoch 46/50\n",
      "148/148 [==============================] - 0s 2ms/step - loss: 7.8484e-05 - val_loss: 7.1763e-05\n",
      "Epoch 47/50\n",
      "148/148 [==============================] - 0s 2ms/step - loss: 7.7835e-05 - val_loss: 9.6587e-05\n",
      "Epoch 48/50\n",
      "148/148 [==============================] - 0s 2ms/step - loss: 7.8608e-05 - val_loss: 7.5075e-05\n",
      "Epoch 49/50\n",
      "148/148 [==============================] - 0s 2ms/step - loss: 7.6081e-05 - val_loss: 7.0537e-05\n",
      "Epoch 50/50\n",
      "148/148 [==============================] - 0s 2ms/step - loss: 7.8104e-05 - val_loss: 7.6943e-05\n",
      "Autoencoder training complete!\n"
     ]
    }
   ],
   "source": [
    "# Train the autoencoder\n",
    "history = autoencoder.fit(\n",
    "    X_train, X_train,  # Input and output are the same for reconstruction\n",
    "    epochs=50,         # Number of training iterations\n",
    "    batch_size=32,     # Number of samples per update\n",
    "    validation_split=0.1,  # Use 10% of training data for validation\n",
    "    shuffle=True       # Shuffle data before training\n",
    ")\n",
    "\n",
    "print(\"Autoencoder training complete!\")\n"
   ]
  },
  {
   "cell_type": "code",
   "execution_count": 7,
   "metadata": {},
   "outputs": [
    {
     "name": "stdout",
     "output_type": "stream",
     "text": [
      "41/41 [==============================] - 0s 2ms/step\n",
      "Reconstruction error computed successfully!\n"
     ]
    }
   ],
   "source": [
    "# Predict the test set\n",
    "X_test_pred = autoencoder.predict(X_test)\n",
    "\n",
    "# Compute reconstruction error (Mean Absolute Error)\n",
    "reconstruction_error = np.mean(np.abs(X_test - X_test_pred), axis=1)\n",
    "\n",
    "print(\"Reconstruction error computed successfully!\")\n"
   ]
  },
  {
   "cell_type": "code",
   "execution_count": 8,
   "metadata": {},
   "outputs": [
    {
     "name": "stdout",
     "output_type": "stream",
     "text": [
      "Anomaly detection threshold: 0.011806449356070241\n",
      "Number of anomalies detected: 66\n"
     ]
    }
   ],
   "source": [
    "# Define threshold using the 95th percentile of reconstruction errors\n",
    "threshold = np.percentile(reconstruction_error, 95)\n",
    "\n",
    "# Classify anomalies\n",
    "anomalies = reconstruction_error > threshold\n",
    "\n",
    "print(f\"Anomaly detection threshold: {threshold}\")\n",
    "print(f\"Number of anomalies detected: {np.sum(anomalies)}\")\n"
   ]
  },
  {
   "cell_type": "code",
   "execution_count": 9,
   "metadata": {},
   "outputs": [
    {
     "data": {
      "image/png": "[encoded data removed]",
      "text/plain": [
       "<Figure size 1000x600 with 1 Axes>"
      ]
     },
     "metadata": {},
     "output_type": "display_data"
    }
   ],
   "source": [
    "import matplotlib.pyplot as plt\n",
    "import seaborn as sns\n",
    "\n",
    "# Plot reconstruction error\n",
    "plt.figure(figsize=(10, 6))\n",
    "sns.histplot(reconstruction_error, bins=50, kde=True)\n",
    "plt.axvline(threshold, color=\"red\", linestyle=\"dashed\", label=\"Anomaly Threshold\")\n",
    "plt.title(\"Reconstruction Error Distribution\")\n",
    "plt.xlabel(\"Reconstruction Error\")\n",
    "plt.ylabel(\"Frequency\")\n",
    "plt.legend()\n",
    "plt.show()\n"
   ]
  },
  {
   "cell_type": "code",
   "execution_count": 10,
   "metadata": {},
   "outputs": [
    {
     "name": "stdout",
     "output_type": "stream",
     "text": [
      "Model saved successfully!\n"
     ]
    }
   ],
   "source": [
    "# Save trained model\n",
    "autoencoder.save(\"autoencoder_model.h5\")\n",
    "\n",
    "print(\"Model saved successfully!\")\n"
   ]
  },
  {
   "cell_type": "code",
   "execution_count": null,
   "metadata": {},
   "outputs": [],
   "source": []
  }
 ],
 "metadata": {
  "kernelspec": {
   "display_name": "env",
   "language": "python",
   "name": "python3"
  },
  "language_info": {
   "codemirror_mode": {
    "name": "ipython",
    "version": 3
   },
   "file_extension": ".py",
   "mimetype": "text/x-python",
   "name": "python",
   "nbconvert_exporter": "python",
   "pygments_lexer": "ipython3",
   "version": "3.7.4"
  }
 },
 "nbformat": 4,
 "nbformat_minor": 2
}
